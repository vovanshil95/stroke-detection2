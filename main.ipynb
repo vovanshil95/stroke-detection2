{
 "cells": [
  {
   "cell_type": "code",
   "id": "initial_id",
   "metadata": {
    "collapsed": true,
    "ExecuteTime": {
     "end_time": "2024-04-26T16:34:08.643773Z",
     "start_time": "2024-04-26T16:34:06.029890Z"
    }
   },
   "source": [
    "import nibabel as nib\n",
    "import matplotlib.pyplot as plt\n",
    "import os\n",
    "\n",
    "import numpy as np\n",
    "from scipy.ndimage import zoom\n",
    "from sklearn.preprocessing import RobustScaler"
   ],
   "execution_count": 13,
   "outputs": []
  },
  {
   "metadata": {
    "ExecuteTime": {
     "end_time": "2024-04-26T16:34:08.651990Z",
     "start_time": "2024-04-26T16:34:08.646353Z"
    }
   },
   "cell_type": "code",
   "source": "atlas_path = '/home/vladimir/PycharmProjects/Stroke-recognition2/data/atlases/1423_mri_atlas.nii'",
   "id": "8fc5817bca47c15c",
   "execution_count": 14,
   "outputs": []
  },
  {
   "metadata": {
    "ExecuteTime": {
     "end_time": "2024-04-26T16:34:11.441178Z",
     "start_time": "2024-04-26T16:34:10.399912Z"
    }
   },
   "cell_type": "code",
   "source": [
    "normal_dwi_pathes = !find data/raw/norma_fl_dwi_syryie/ -type f -name 'dwi*.nii.gz'\n",
    "normal_flair_pathes = !find data/raw/norma_fl_dwi_syryie/ -type f -name 'flair*.nii.gz'\n",
    "\n",
    "stroke_dwi_pathes = !find data/raw/ostr_insult+dwi_ready_2/ -type f -name 'dwi*.nii.gz'\n",
    "stroke_flair_pathes = !find data/raw/ostr_insult+dwi_ready_2/ -type f -name 'flair*.nii.gz'"
   ],
   "id": "b3340fd0bf89d4da",
   "execution_count": 15,
   "outputs": []
  },
  {
   "metadata": {
    "ExecuteTime": {
     "end_time": "2024-04-26T16:34:23.032816Z",
     "start_time": "2024-04-26T16:34:16.299013Z"
    }
   },
   "cell_type": "code",
   "source": [
    "fig, axs = plt.subplots(10, 2, figsize=(12, 50))\n",
    "plt.suptitle('Stroke cases')\n",
    "for dwi_path, flair_path, ax in zip(stroke_dwi_pathes[:10], stroke_flair_pathes[:10], axs):\n",
    "    dwi_arr = nib.load(dwi_path).get_fdata()\n",
    "    flair_arr = nib.load(flair_path).get_fdata()\n",
    "    ax[0].imshow(dwi_arr[:,:,dwi_arr.shape[2] // 2])\n",
    "    ax[1].imshow(flair_arr[:,:,flair_arr.shape[2] // 2])\n",
    "    ax[0].set_title(f'dwi {dwi_arr.shape}', )\n",
    "    ax[1].set_title(f'flair {flair_arr.shape}')\n",
    "plt.show()"
   ],
   "id": "7fb81a43bbc156b8",
   "execution_count": 16,
   "outputs": []
  },
  {
   "metadata": {
    "ExecuteTime": {
     "end_time": "2024-04-26T16:34:28.940313Z",
     "start_time": "2024-04-26T16:34:23.036330Z"
    }
   },
   "cell_type": "code",
   "source": [
    "fig, axs = plt.subplots(10, 2, figsize=(12, 50))\n",
    "plt.suptitle('Normal cases')\n",
    "for dwi_path, flair_path, ax in zip(normal_dwi_pathes[:10], normal_flair_pathes[:10], axs):\n",
    "    dwi_arr = nib.load(dwi_path).get_fdata()\n",
    "    flair_arr = nib.load(flair_path).get_fdata()\n",
    "    ax[0].imshow(dwi_arr[:,:,dwi_arr.shape[2] // 2])\n",
    "    ax[1].imshow(flair_arr[:,:,flair_arr.shape[2] // 2])\n",
    "    ax[0].set_title(f'dwi {dwi_arr.shape}', )\n",
    "    ax[1].set_title(f'flair {flair_arr.shape}')\n",
    "plt.show()"
   ],
   "id": "9c0bea977fb931e6",
   "execution_count": 17,
   "outputs": []
  },
  {
   "metadata": {},
   "cell_type": "code",
   "source": [
    "for el in normal_dwi_pathes:\n",
    "    case = el.split('/')[-2]\n",
    "    !bet {el} data/filtered/normal/dwi_{case}.nii.gz"
   ],
   "id": "7f88d9b3688a8261",
   "execution_count": null,
   "outputs": []
  },
  {
   "metadata": {
    "ExecuteTime": {
     "end_time": "2024-04-23T16:11:57.076552Z",
     "start_time": "2024-04-23T16:05:16.991535Z"
    }
   },
   "cell_type": "code",
   "source": [
    "for el in normal_flair_pathes:\n",
    "    case = el.split('/')[-2]\n",
    "    !bet {el} data/filtered/normal/flair_{case}.nii.gz"
   ],
   "id": "9116d32da70ed339",
   "execution_count": 12,
   "outputs": []
  },
  {
   "metadata": {
    "ExecuteTime": {
     "end_time": "2024-04-23T16:18:40.382138Z",
     "start_time": "2024-04-23T16:11:57.100825Z"
    }
   },
   "cell_type": "code",
   "source": [
    "for el in stroke_dwi_pathes:\n",
    "    case = el.split('/')[-3]\n",
    "    !bet {el} data/filtered/stroke/dwi_{case}.nii.gz"
   ],
   "id": "ee0bf3080ebe787",
   "execution_count": 13,
   "outputs": []
  },
  {
   "metadata": {
    "ExecuteTime": {
     "end_time": "2024-04-23T16:26:04.074777Z",
     "start_time": "2024-04-23T16:18:40.404690Z"
    }
   },
   "cell_type": "code",
   "source": [
    "for el in stroke_flair_pathes:\n",
    "    case = el.split('/')[-3]\n",
    "    !bet {el} data/filtered/stroke/flair_{case}.nii.gz"
   ],
   "id": "3e4a8c64b52ee2e1",
   "execution_count": 14,
   "outputs": []
  },
  {
   "metadata": {
    "ExecuteTime": {
     "end_time": "2024-04-26T16:34:29.878162Z",
     "start_time": "2024-04-26T16:34:28.945908Z"
    }
   },
   "cell_type": "code",
   "source": [
    "normal_dwi_pathes = !find data/filtered/normal/ -type f -name 'dwi*.nii.gz'\n",
    "normal_flair_pathes = !find data/filtered/normal/ -type f -name 'flair*.nii.gz'\n",
    "\n",
    "stroke_dwi_pathes = !find data/filtered/stroke/ -type f -name 'dwi*.nii.gz'\n",
    "stroke_flair_pathes = !find data/filtered/stroke/ -type f -name 'flair*.nii.gz'"
   ],
   "id": "53b2613bf3764839",
   "execution_count": 18,
   "outputs": []
  },
  {
   "metadata": {
    "ExecuteTime": {
     "end_time": "2024-04-26T16:34:35.840356Z",
     "start_time": "2024-04-26T16:34:29.881173Z"
    }
   },
   "cell_type": "code",
   "source": [
    "fig, axs = plt.subplots(10, 2, figsize=(12, 50))\n",
    "plt.suptitle('Stroke cases')\n",
    "for dwi_path, flair_path, ax in zip(stroke_dwi_pathes[:10], stroke_flair_pathes[:10], axs):\n",
    "    dwi_arr = nib.load(dwi_path).get_fdata()\n",
    "    flair_arr = nib.load(flair_path).get_fdata()\n",
    "    ax[0].imshow(dwi_arr[:,:,dwi_arr.shape[2] // 2])\n",
    "    ax[1].imshow(flair_arr[:,:,flair_arr.shape[2] // 2])\n",
    "    ax[0].set_title(f'dwi {dwi_arr.shape}', )\n",
    "    ax[1].set_title(f'flair {flair_arr.shape}')\n",
    "plt.show()"
   ],
   "id": "f1f4cea347430f95",
   "execution_count": 19,
   "outputs": []
  },
  {
   "metadata": {
    "ExecuteTime": {
     "end_time": "2024-04-26T16:34:41.069164Z",
     "start_time": "2024-04-26T16:34:35.843058Z"
    }
   },
   "cell_type": "code",
   "source": [
    "fig, axs = plt.subplots(10, 2, figsize=(12, 50))\n",
    "plt.suptitle('Normal cases')\n",
    "for dwi_path, flair_path, ax in zip(normal_dwi_pathes[:10], normal_flair_pathes[:10], axs):\n",
    "    dwi_arr = nib.load(dwi_path).get_fdata()\n",
    "    flair_arr = nib.load(flair_path).get_fdata()\n",
    "    ax[0].imshow(dwi_arr[:,:,dwi_arr.shape[2] // 2])\n",
    "    ax[1].imshow(flair_arr[:,:,flair_arr.shape[2] // 2])\n",
    "    ax[0].set_title(f'dwi {dwi_arr.shape}', )\n",
    "    ax[1].set_title(f'flair {flair_arr.shape}')\n",
    "plt.show()"
   ],
   "id": "e8cf57bd82d1ea5a",
   "execution_count": 20,
   "outputs": []
  },
  {
   "metadata": {
    "ExecuteTime": {
     "end_time": "2024-04-24T15:29:59.921333Z",
     "start_time": "2024-04-24T15:11:49.102001Z"
    }
   },
   "cell_type": "code",
   "source": [
    "for el in normal_dwi_pathes:\n",
    "    case = el.split('/')[-1]\n",
    "    !BRAINSFit --fixedVolume {atlas_path} --movingVolume {el} --outputVolume /home/vladimir/PycharmProjects/Stroke-recognition2/data/registered/normal/{case} --transformType Regid --transformType Affine --initializeTransformMode useCenterOfHeadAlign > /dev/null\n",
    "    print(case, 'registered')"
   ],
   "id": "18dcc4b900bc5f85",
   "execution_count": 17,
   "outputs": []
  },
  {
   "metadata": {
    "ExecuteTime": {
     "end_time": "2024-04-24T15:53:12.949988Z",
     "start_time": "2024-04-24T15:29:59.944127Z"
    }
   },
   "cell_type": "code",
   "source": [
    "for el in normal_flair_pathes:\n",
    "    case = el.split('/')[-1]\n",
    "    !BRAINSFit --fixedVolume {atlas_path} --movingVolume {el} --outputVolume /home/vladimir/PycharmProjects/Stroke-recognition2/data/registered/normal/{case} --transformType Regid --transformType Affine --initializeTransformMode useCenterOfHeadAlign > /dev/null\n",
    "    print(case, 'registered')"
   ],
   "id": "68d4baecd411193e",
   "execution_count": 18,
   "outputs": []
  },
  {
   "metadata": {
    "ExecuteTime": {
     "end_time": "2024-04-24T16:13:52.898359Z",
     "start_time": "2024-04-24T15:53:12.964324Z"
    }
   },
   "cell_type": "code",
   "source": [
    "for el in stroke_dwi_pathes:\n",
    "    case = el.split('/')[-1]\n",
    "    !BRAINSFit --fixedVolume {atlas_path} --movingVolume {el} --outputVolume /home/vladimir/PycharmProjects/Stroke-recognition2/data/registered/stroke/{case} --transformType Regid --transformType Affine --initializeTransformMode useCenterOfHeadAlign > /dev/null\n",
    "    print(case, 'registered')"
   ],
   "id": "16478612a8ac3e4d",
   "execution_count": 19,
   "outputs": []
  },
  {
   "metadata": {
    "ExecuteTime": {
     "end_time": "2024-04-24T16:38:17.599304Z",
     "start_time": "2024-04-24T16:13:52.908080Z"
    }
   },
   "cell_type": "code",
   "source": [
    "for el in stroke_flair_pathes:\n",
    "    case = el.split('/')[-1]\n",
    "    !BRAINSFit --fixedVolume {atlas_path} --movingVolume {el} --outputVolume /home/vladimir/PycharmProjects/Stroke-recognition2/data/registered/stroke/{case} --transformType Regid --transformType Affine --initializeTransformMode useCenterOfHeadAlign > /dev/null\n",
    "    print(case, 'registered')"
   ],
   "id": "c340d36d0dfdeb3f",
   "execution_count": 20,
   "outputs": []
  },
  {
   "metadata": {
    "ExecuteTime": {
     "end_time": "2024-04-26T16:34:43.244788Z",
     "start_time": "2024-04-26T16:34:42.245317Z"
    }
   },
   "cell_type": "code",
   "source": [
    "normal_dwi_pathes = !find data/registered/normal/ -type f -name 'dwi*.nii.gz'\n",
    "normal_flair_pathes = !find data/registered/normal/ -type f -name 'flair*.nii.gz'\n",
    "\n",
    "stroke_dwi_pathes = !find data/registered/stroke/ -type f -name 'dwi*.nii.gz'\n",
    "stroke_flair_pathes = !find data/registered/stroke/ -type f -name 'flair*.nii.gz'"
   ],
   "id": "250c42710149e950",
   "execution_count": 21,
   "outputs": []
  },
  {
   "metadata": {
    "ExecuteTime": {
     "end_time": "2024-04-26T16:34:48.268069Z",
     "start_time": "2024-04-26T16:34:43.902870Z"
    }
   },
   "cell_type": "code",
   "source": [
    "fig, axs = plt.subplots(10, 2, figsize=(12, 50))\n",
    "plt.suptitle('Stroke cases')\n",
    "for dwi_path, flair_path, ax in zip(stroke_dwi_pathes[:10], stroke_flair_pathes[:10], axs):\n",
    "    dwi_arr = nib.load(dwi_path).get_fdata()\n",
    "    flair_arr = nib.load(flair_path).get_fdata()\n",
    "    ax[0].imshow(dwi_arr[:,:,dwi_arr.shape[2] // 2])\n",
    "    ax[1].imshow(flair_arr[:,:,flair_arr.shape[2] // 2])\n",
    "    ax[0].set_title(f'dwi {dwi_arr.shape}', )\n",
    "    ax[1].set_title(f'flair {flair_arr.shape}')\n",
    "plt.show()"
   ],
   "id": "97f353b0a33d5976",
   "execution_count": 22,
   "outputs": []
  },
  {
   "metadata": {
    "ExecuteTime": {
     "end_time": "2024-04-26T16:34:53.422541Z",
     "start_time": "2024-04-26T16:34:48.319558Z"
    }
   },
   "cell_type": "code",
   "source": [
    "fig, axs = plt.subplots(10, 2, figsize=(12, 50))\n",
    "plt.suptitle('Normal cases')\n",
    "for dwi_path, flair_path, ax in zip(normal_dwi_pathes[:10], normal_flair_pathes[:10], axs):\n",
    "    dwi_arr = nib.load(dwi_path).get_fdata()\n",
    "    flair_arr = nib.load(flair_path).get_fdata()\n",
    "    ax[0].imshow(dwi_arr[:,:,dwi_arr.shape[2] // 2])\n",
    "    ax[1].imshow(flair_arr[:,:,flair_arr.shape[2] // 2])\n",
    "    ax[0].set_title(f'dwi {dwi_arr.shape}', )\n",
    "    ax[1].set_title(f'flair {flair_arr.shape}')\n",
    "plt.show()"
   ],
   "id": "4bff7fc1a91d0c86",
   "execution_count": 23,
   "outputs": []
  },
  {
   "metadata": {
    "ExecuteTime": {
     "end_time": "2024-04-26T16:34:53.439989Z",
     "start_time": "2024-04-26T16:34:53.425405Z"
    }
   },
   "cell_type": "code",
   "source": [
    "def add_hemispheres(source_path, destination_path):\n",
    "    brain_data = nib.load(source_path)\n",
    "    brain_arr = brain_data.get_fdata()\n",
    "    \n",
    "    no_space_brain_arr = brain_arr[56:185,35:192,:]\n",
    "    \n",
    "    left_hemisphere = no_space_brain_arr[:64]\n",
    "    right_hemisphere_referred = no_space_brain_arr[65:][::-1]\n",
    "    \n",
    "    left_hemisphere = zoom(left_hemisphere, (0.5, 0.5, 1))\n",
    "    right_hemisphere_referred = zoom(right_hemisphere_referred, (0.5, 0.5, 1))\n",
    "    \n",
    "    left_hemisphere_data = nib.Nifti1Image(left_hemisphere, brain_data.affine)\n",
    "    right_hemisphere_referred_data = nib.Nifti1Image(right_hemisphere_referred, brain_data.affine)\n",
    "    \n",
    "    os.mkdir(destination_path)\n",
    "    nib.save(left_hemisphere_data, destination_path + '/left.nii')\n",
    "    nib.save(right_hemisphere_referred_data, destination_path + '/right.nii')"
   ],
   "id": "6df127e1fb752f8",
   "execution_count": 24,
   "outputs": []
  },
  {
   "metadata": {
    "ExecuteTime": {
     "end_time": "2024-04-24T16:38:36.122168Z",
     "start_time": "2024-04-24T16:38:27.086226Z"
    }
   },
   "cell_type": "code",
   "source": [
    "for el in normal_dwi_pathes:\n",
    "    case = el.split('/')[-1].split('.')[0]\n",
    "    add_hemispheres(el, f'/home/vladimir/PycharmProjects/Stroke-recognition2/data/hemispheres/normal/{case}')"
   ],
   "id": "77a320acf50de7aa",
   "execution_count": 25,
   "outputs": []
  },
  {
   "metadata": {
    "ExecuteTime": {
     "end_time": "2024-04-24T16:38:44.831502Z",
     "start_time": "2024-04-24T16:38:36.125098Z"
    }
   },
   "cell_type": "code",
   "source": [
    "for el in normal_flair_pathes:\n",
    "    case = el.split('/')[-1].split('.')[0]\n",
    "    add_hemispheres(el, f'/home/vladimir/PycharmProjects/Stroke-recognition2/data/hemispheres/normal/{case}')"
   ],
   "id": "6d6e45ee67c95f52",
   "execution_count": 26,
   "outputs": []
  },
  {
   "metadata": {
    "ExecuteTime": {
     "end_time": "2024-04-24T16:38:55.397308Z",
     "start_time": "2024-04-24T16:38:44.833137Z"
    }
   },
   "cell_type": "code",
   "source": [
    "for el in stroke_dwi_pathes:\n",
    "    case = el.split('/')[-1].split('.')[0]\n",
    "    add_hemispheres(el, f'/home/vladimir/PycharmProjects/Stroke-recognition2/data/hemispheres/stroke/{case}')"
   ],
   "id": "3475dc336622d806",
   "execution_count": 27,
   "outputs": []
  },
  {
   "metadata": {
    "ExecuteTime": {
     "end_time": "2024-04-24T16:39:06.416835Z",
     "start_time": "2024-04-24T16:38:55.399363Z"
    }
   },
   "cell_type": "code",
   "source": [
    "for el in stroke_flair_pathes:\n",
    "    case = el.split('/')[-1].split('.')[0]\n",
    "    add_hemispheres(el, f'/home/vladimir/PycharmProjects/Stroke-recognition2/data/hemispheres/stroke/{case}')"
   ],
   "id": "7d5df823145b993b",
   "execution_count": 28,
   "outputs": []
  },
  {
   "metadata": {
    "ExecuteTime": {
     "end_time": "2024-04-26T16:35:01.162051Z",
     "start_time": "2024-04-26T16:35:00.197113Z"
    }
   },
   "cell_type": "code",
   "source": [
    "normal_dwi_pathes = !find data/hemispheres/normal/ -name 'dwi*'\n",
    "normal_flair_pathes = !find data/hemispheres/normal/ -name 'flair*'\n",
    "\n",
    "stroke_dwi_pathes = !find data/hemispheres/stroke/ -name 'dwi*'\n",
    "stroke_flair_pathes = !find data/hemispheres/stroke/ -name 'flair*'"
   ],
   "id": "d601f489d3494c05",
   "execution_count": 25,
   "outputs": []
  },
  {
   "metadata": {
    "ExecuteTime": {
     "end_time": "2024-04-26T16:35:06.626034Z",
     "start_time": "2024-04-26T16:35:01.808043Z"
    }
   },
   "cell_type": "code",
   "source": [
    "fig, axs = plt.subplots(10, 2, figsize=(12, 50))\n",
    "plt.suptitle('Stroke cases')\n",
    "for dwi_path, flair_path, ax in zip(stroke_dwi_pathes[:10], stroke_flair_pathes[:10], axs):\n",
    "    dwi_left_arr = nib.load(dwi_path + '/left.nii').get_fdata()\n",
    "    dwi_right_arr = nib.load(dwi_path + '/right.nii').get_fdata()\n",
    "    flair_left_arr = nib.load(flair_path + '/left.nii').get_fdata()\n",
    "    flair_right_arr = nib.load(flair_path + '/right.nii').get_fdata()\n",
    "    ax[0].imshow(np.concatenate([dwi_left_arr[:,:,dwi_left_arr.shape[2] // 2], np.zeros([10, dwi_left_arr.shape[1]]), dwi_right_arr[:,:,dwi_left_arr.shape[2] // 2][::-1]]))\n",
    "    ax[1].imshow(np.concatenate([flair_left_arr[:,:,flair_arr.shape[2] // 2], np.zeros([10, dwi_left_arr.shape[1]]), flair_right_arr[:,:,flair_right_arr.shape[2] // 2][::-1]]))\n",
    "    ax[0].set_title(f'dwi {dwi_arr.shape}', )\n",
    "    ax[1].set_title(f'flair {flair_arr.shape}')\n",
    "plt.show()"
   ],
   "id": "96a620b69197f75d",
   "execution_count": 26,
   "outputs": []
  },
  {
   "metadata": {
    "ExecuteTime": {
     "end_time": "2024-04-26T16:35:12.095980Z",
     "start_time": "2024-04-26T16:35:06.665684Z"
    }
   },
   "cell_type": "code",
   "source": [
    "fig, axs = plt.subplots(10, 2, figsize=(12, 50))\n",
    "plt.suptitle('Normal cases')\n",
    "for dwi_path, flair_path, ax in zip(normal_dwi_pathes[:10], normal_flair_pathes[:10], axs):\n",
    "    dwi_left_arr = nib.load(dwi_path + '/left.nii').get_fdata()\n",
    "    dwi_right_arr = nib.load(dwi_path + '/right.nii').get_fdata()\n",
    "    flair_left_arr = nib.load(flair_path + '/left.nii').get_fdata()\n",
    "    flair_right_arr = nib.load(flair_path + '/right.nii').get_fdata()\n",
    "    ax[0].imshow(np.concatenate([dwi_left_arr[:,:,dwi_left_arr.shape[2] // 2], np.zeros([10, dwi_left_arr.shape[1]]), dwi_right_arr[:,:,dwi_left_arr.shape[2] // 2][::-1]]))\n",
    "    ax[1].imshow(np.concatenate([flair_left_arr[:,:,flair_arr.shape[2] // 2], np.zeros([10, dwi_left_arr.shape[1]]), flair_right_arr[:,:,flair_right_arr.shape[2] // 2][::-1]]))\n",
    "    ax[0].set_title(f'dwi {dwi_arr.shape}', )\n",
    "    ax[1].set_title(f'flair {flair_arr.shape}')\n",
    "plt.show()"
   ],
   "id": "68bcccdae78b7310",
   "execution_count": 27,
   "outputs": []
  },
  {
   "metadata": {
    "ExecuteTime": {
     "end_time": "2024-04-26T16:35:13.020962Z",
     "start_time": "2024-04-26T16:35:12.099305Z"
    }
   },
   "cell_type": "code",
   "source": [
    "normal_dwi_pathes = !find data/hemispheres/normal/ -name 'dwi*'\n",
    "normal_flair_pathes = !find data/hemispheres/normal/ -name 'flair*'\n",
    "\n",
    "stroke_dwi_pathes = !find data/hemispheres/stroke/ -name 'dwi*'\n",
    "stroke_flair_pathes = !find data/hemispheres/stroke/ -name 'flair*'"
   ],
   "id": "b1e8b3c5106799b0",
   "execution_count": 28,
   "outputs": []
  },
  {
   "metadata": {
    "ExecuteTime": {
     "end_time": "2024-04-26T16:35:13.029377Z",
     "start_time": "2024-04-26T16:35:13.022469Z"
    }
   },
   "cell_type": "code",
   "source": [
    "scaler = RobustScaler()\n",
    "\n",
    "def add_normalized_hemispheres(file,destination_path ):\n",
    "    case = file.split('/')[-1]\n",
    "    \n",
    "    left_data = nib.load(file + '/left.nii')\n",
    "    right_data = nib.load(file + '/right.nii')\n",
    "    \n",
    "    left_arr = left_data.get_fdata()\n",
    "    right_arr = right_data.get_fdata()\n",
    "\n",
    "    left_arr_2d = left_arr.reshape(-1, 1)\n",
    "    right_arr_2d = right_arr.reshape(-1, 1)\n",
    "\n",
    "    scaler.fit(np.concatenate([left_arr_2d, right_arr_2d], axis=0))\n",
    "\n",
    "    scaled_left_data = nib.Nifti1Image(np.clip(scaler.transform(left_arr_2d), 0, None).reshape(*left_arr.shape), left_data.affine)\n",
    "    scaled_right_data = nib.Nifti1Image(np.clip(scaler.transform(right_arr_2d), 0, None).reshape(*right_arr.shape), right_data.affine)\n",
    "\n",
    "    os.mkdir(destination_path + case)\n",
    "\n",
    "    nib.save(scaled_left_data, destination_path + case + '/left.nii')\n",
    "    nib.save(scaled_right_data, destination_path + case + '/right.nii')"
   ],
   "id": "f43b956e1ba3bbec",
   "execution_count": 29,
   "outputs": []
  },
  {
   "metadata": {
    "ExecuteTime": {
     "end_time": "2024-04-26T16:35:16.177806Z",
     "start_time": "2024-04-26T16:35:13.773100Z"
    }
   },
   "cell_type": "code",
   "source": [
    "for el in normal_dwi_pathes:\n",
    "    add_normalized_hemispheres(el, '/home/vladimir/PycharmProjects/Stroke-recognition2/data/normalized_hemispheres/normal/')"
   ],
   "id": "111e139a02a62b8",
   "execution_count": 30,
   "outputs": []
  },
  {
   "metadata": {
    "ExecuteTime": {
     "end_time": "2024-04-26T16:35:18.506689Z",
     "start_time": "2024-04-26T16:35:16.181432Z"
    }
   },
   "cell_type": "code",
   "source": [
    "for el in normal_flair_pathes:\n",
    "    add_normalized_hemispheres(el, f'/home/vladimir/PycharmProjects/Stroke-recognition2/data/normalized_hemispheres/normal/')"
   ],
   "id": "33cabd006ca26328",
   "execution_count": 31,
   "outputs": []
  },
  {
   "metadata": {
    "ExecuteTime": {
     "end_time": "2024-04-26T16:35:21.594036Z",
     "start_time": "2024-04-26T16:35:18.508794Z"
    }
   },
   "cell_type": "code",
   "source": [
    "for el in stroke_dwi_pathes:\n",
    "    add_normalized_hemispheres(el, f'/home/vladimir/PycharmProjects/Stroke-recognition2/data/normalized_hemispheres/stroke/')"
   ],
   "id": "5ba6bec4f86e22a3",
   "execution_count": 32,
   "outputs": []
  },
  {
   "metadata": {
    "ExecuteTime": {
     "end_time": "2024-04-26T16:35:24.508345Z",
     "start_time": "2024-04-26T16:35:21.633723Z"
    }
   },
   "cell_type": "code",
   "source": [
    "for el in stroke_flair_pathes:\n",
    "    add_normalized_hemispheres(el, f'/home/vladimir/PycharmProjects/Stroke-recognition2/data/normalized_hemispheres/stroke/')"
   ],
   "id": "4fc92ba25fb5d256",
   "execution_count": 33,
   "outputs": []
  },
  {
   "metadata": {
    "ExecuteTime": {
     "end_time": "2024-04-26T16:35:26.210821Z",
     "start_time": "2024-04-26T16:35:24.509905Z"
    }
   },
   "cell_type": "code",
   "source": [
    "normal_dwi_pathes = !find data/normalized_hemispheres/normal/ -name 'dwi*'\n",
    "normal_flair_pathes = !find data/normalized_hemispheres/normal/ -name 'flair*'\n",
    "\n",
    "stroke_dwi_pathes = !find data/normalized_hemispheres/stroke/ -name 'dwi*'\n",
    "stroke_flair_pathes = !find data/normalized_hemispheres/stroke/ -name 'flair*'"
   ],
   "id": "bc2fe593311dbf48",
   "execution_count": 34,
   "outputs": []
  },
  {
   "metadata": {
    "ExecuteTime": {
     "end_time": "2024-04-26T16:35:31.027021Z",
     "start_time": "2024-04-26T16:35:26.212538Z"
    }
   },
   "cell_type": "code",
   "source": [
    "fig, axs = plt.subplots(10, 2, figsize=(12, 50))\n",
    "plt.suptitle('Stroke cases')\n",
    "for dwi_path, flair_path, ax in zip(stroke_dwi_pathes[:10], stroke_flair_pathes[:10], axs):\n",
    "    dwi_left_arr = nib.load(dwi_path + '/left.nii').get_fdata()\n",
    "    dwi_right_arr = nib.load(dwi_path + '/right.nii').get_fdata()\n",
    "    flair_left_arr = nib.load(flair_path + '/left.nii').get_fdata()\n",
    "    flair_right_arr = nib.load(flair_path + '/right.nii').get_fdata()\n",
    "    ax[0].imshow(np.concatenate([dwi_left_arr[:,:,dwi_left_arr.shape[2] // 2], np.zeros([10, dwi_left_arr.shape[1]]), dwi_right_arr[:,:,dwi_left_arr.shape[2] // 2][::-1]]))\n",
    "    ax[1].imshow(np.concatenate([flair_left_arr[:,:,flair_arr.shape[2] // 2], np.zeros([10, dwi_left_arr.shape[1]]), flair_right_arr[:,:,flair_right_arr.shape[2] // 2][::-1]]))\n",
    "    ax[0].set_title(f'dwi {dwi_arr.shape}', )\n",
    "    ax[1].set_title(f'flair {flair_arr.shape}')\n",
    "plt.show()"
   ],
   "id": "4fc0829356902bbc",
   "execution_count": 35,
   "outputs": []
  },
  {
   "metadata": {
    "ExecuteTime": {
     "end_time": "2024-04-26T16:35:35.591184Z",
     "start_time": "2024-04-26T16:35:31.029469Z"
    }
   },
   "cell_type": "code",
   "source": [
    "fig, axs = plt.subplots(10, 2, figsize=(12, 50))\n",
    "plt.suptitle('Normal cases')\n",
    "for dwi_path, flair_path, ax in zip(normal_dwi_pathes[:10], normal_flair_pathes[:10], axs):\n",
    "    dwi_left_arr = nib.load(dwi_path + '/left.nii').get_fdata()\n",
    "    dwi_right_arr = nib.load(dwi_path + '/right.nii').get_fdata()\n",
    "    flair_left_arr = nib.load(flair_path + '/left.nii').get_fdata()\n",
    "    flair_right_arr = nib.load(flair_path + '/right.nii').get_fdata()\n",
    "    ax[0].imshow(np.concatenate([dwi_left_arr[:,:,dwi_left_arr.shape[2] // 2], np.zeros([10, dwi_left_arr.shape[1]]), dwi_right_arr[:,:,dwi_left_arr.shape[2] // 2][::-1]]))\n",
    "    ax[1].imshow(np.concatenate([flair_left_arr[:,:,flair_arr.shape[2] // 2], np.zeros([10, dwi_left_arr.shape[1]]), flair_right_arr[:,:,flair_right_arr.shape[2] // 2][::-1]]))\n",
    "    ax[0].set_title(f'dwi {dwi_arr.shape}', )\n",
    "    ax[1].set_title(f'flair {flair_arr.shape}')\n",
    "plt.show()"
   ],
   "id": "b9496e6db42b9c4a",
   "execution_count": 36,
   "outputs": []
  },
  {
   "metadata": {
    "ExecuteTime": {
     "end_time": "2024-04-26T16:36:30.163403Z",
     "start_time": "2024-04-26T16:36:11.650480Z"
    }
   },
   "cell_type": "code",
   "source": "!zip -q -r data/normalized_hemispheres.zip data/normalized_hemispheres",
   "id": "4127d4d158c235bb",
   "execution_count": 37,
   "outputs": []
  },
  {
   "metadata": {},
   "cell_type": "code",
   "execution_count": null,
   "source": "",
   "id": "ce2d2723bdc90246",
   "outputs": []
  }
 ],
 "metadata": {
  "kernelspec": {
   "display_name": "Python 3",
   "language": "python",
   "name": "python3"
  },
  "language_info": {
   "codemirror_mode": {
    "name": "ipython",
    "version": 2
   },
   "file_extension": ".py",
   "mimetype": "text/x-python",
   "name": "python",
   "nbconvert_exporter": "python",
   "pygments_lexer": "ipython2",
   "version": "2.7.6"
  }
 },
 "nbformat": 4,
 "nbformat_minor": 5
}
